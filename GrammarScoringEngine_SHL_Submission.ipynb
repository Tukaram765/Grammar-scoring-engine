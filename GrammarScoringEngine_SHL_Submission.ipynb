{
 "cells": [
  {
   "cell_type": "code",
   "execution_count": null,
   "id": "9b22e694-55d3-4c07-826b-dcdfd9f4942a",
   "metadata": {},
   "outputs": [],
   "source": [
    "import pandas as pd\n",
    "import numpy as np\n",
    "from sklearn.ensemble import RandomForestRegressor\n",
    "from sklearn.model_selection import train_test_split\n",
    "from sklearn.preprocessing import StandardScaler\n",
    "from sklearn.metrics import mean_squared_error\n",
    "from scipy.stats import pearsonr\n",
    "import joblib\n",
    "import os\n"
   ]
  },
  {
   "cell_type": "code",
   "execution_count": null,
   "id": "9831ff27-d27e-40cb-9ef8-ce1e49101e16",
   "metadata": {},
   "outputs": [],
   "source": [
    "# Load CSV files\n",
    "train_transcripts = pd.read_csv(\"train_transcripts.csv\")\n",
    "test_transcripts = pd.read_csv(\"test_transcripts.csv\")\n",
    "train_audio = pd.read_csv(\"train_audio_features.csv\")\n",
    "test_audio = pd.read_csv(\"test_audio_features.csv\")\n",
    "labels_df = pd.read_csv(\"dataset/train.csv\")\n",
    "\n",
    "# Rename label column to grammar for clarity\n",
    "labels_df.rename(columns={\"label\": \"grammar\"}, inplace=True)\n"
   ]
  },
  {
   "cell_type": "code",
   "execution_count": null,
   "id": "a11ae21b-4d52-4bb3-a4b3-727b093a1db0",
   "metadata": {},
   "outputs": [],
   "source": [
    "# Merge transcripts and audio features\n",
    "train_df = pd.merge(train_transcripts, train_audio, on=\"filename\")\n",
    "test_df = pd.merge(test_transcripts, test_audio, on=\"filename\")\n",
    "\n",
    "# Merge grammar labels with train data\n",
    "train_df = pd.merge(train_df, labels_df[[\"filename\", \"grammar\"]], on=\"filename\")\n",
    "\n",
    "# Optional: Save combined data for debugging\n",
    "train_df.to_csv(\"train_combined.csv\", index=False)\n",
    "test_df.to_csv(\"test_combined.csv\", index=False)\n"
   ]
  },
  {
   "cell_type": "code",
   "execution_count": null,
   "id": "532177fb-11e7-4b72-94b2-175a2d33c750",
   "metadata": {},
   "outputs": [],
   "source": [
    "# Drop unnecessary columns\n",
    "X = train_df.drop(columns=[\"filename\", \"transcript\", \"grammar\"])\n",
    "y = train_df[\"grammar\"]\n",
    "\n",
    "# Train-validation split\n",
    "X_train, X_val, y_train, y_val = train_test_split(X, y, test_size=0.2, random_state=42)\n",
    "\n",
    "# Feature scaling\n",
    "scaler = StandardScaler()\n",
    "X_train_scaled = scaler.fit_transform(X_train)\n",
    "X_val_scaled = scaler.transform(X_val)\n"
   ]
  },
  {
   "cell_type": "code",
   "execution_count": null,
   "id": "09442497-2db4-4ce0-8fcb-ad3e662f361f",
   "metadata": {},
   "outputs": [],
   "source": [
    "# Train Random Forest model\n",
    "model = RandomForestRegressor(n_estimators=100, random_state=42)\n",
    "model.fit(X_train_scaled, y_train)\n"
   ]
  },
  {
   "cell_type": "code",
   "execution_count": null,
   "id": "8fe4b7a8-0eac-43f3-a608-279efdc5696f",
   "metadata": {},
   "outputs": [],
   "source": [
    "# Predict on validation set\n",
    "y_pred = model.predict(X_val_scaled)\n",
    "\n",
    "# Metrics\n",
    "pearson_corr, _ = pearsonr(y_val, y_pred)\n",
    "rmse = mean_squared_error(y_val, y_pred) ** 0.5\n",
    "\n",
    "print(f\"✅ Pearson Correlation: {pearson_corr:.4f}\")\n",
    "print(f\"✅ RMSE: {rmse:.4f}\")\n"
   ]
  },
  {
   "cell_type": "code",
   "execution_count": null,
   "id": "b628402c-9336-4ea4-a69d-02618b343892",
   "metadata": {},
   "outputs": [],
   "source": [
    "# Save model and scaler\n",
    "joblib.dump(model, \"grammar_model.pkl\")\n",
    "joblib.dump(scaler, \"scaler.pkl\")\n"
   ]
  },
  {
   "cell_type": "code",
   "execution_count": null,
   "id": "b3645823-019a-469e-87cf-fecdda55215b",
   "metadata": {},
   "outputs": [],
   "source": [
    "X_test = test_df.drop(columns=[\"filename\", \"transcript\"])\n",
    "X_test_scaled = scaler.transform(X_test)\n",
    "\n",
    "test_predictions = model.predict(X_test_scaled)\n"
   ]
  },
  {
   "cell_type": "code",
   "execution_count": null,
   "id": "c4aec303-566f-4f23-8bbd-9192282c3ee7",
   "metadata": {},
   "outputs": [],
   "source": [
    "submission_df = pd.DataFrame({\n",
    "    \"filename\": test_df[\"filename\"],\n",
    "    \"label\": test_predictions\n",
    "})\n",
    "\n",
    "# Round scores to 1 decimal\n",
    "submission_df[\"label\"] = submission_df[\"label\"].round(1)\n",
    "\n",
    "# Save submission\n",
    "submission_df.to_csv(\"submission.csv\", index=False)\n",
    "print(\"✅ submission.csv saved successfully.\")\n"
   ]
  },
  {
   "cell_type": "markdown",
   "id": "e3f3787e-05fe-4da9-b17a-161f8c274f31",
   "metadata": {},
   "source": [
    "## 📝 Project Report: Grammar Scoring Engine\n",
    "\n",
    "### 🔍 Objective:\n",
    "To develop a model that predicts grammar scores (0–5) from 45–60s audio files using audio and transcript features.\n",
    "\n",
    "### 📂 Data Used:\n",
    "- `train.csv`: Grammar score labels\n",
    "- `train_transcripts.csv` + `train_audio_features.csv`: Training features\n",
    "- `test_transcripts.csv` + `test_audio_features.csv`: Test features\n",
    "\n",
    "### ⚙️ Method:\n",
    "- Merged transcript and audio features using filename\n",
    "- Scaled features using `StandardScaler`\n",
    "- Trained a `RandomForestRegressor` on training data\n",
    "- Evaluated using **Pearson Correlation** and **RMSE**\n",
    "\n",
    "### 📊 Evaluation:\n",
    "- **Pearson Correlation**: `0.83` *(example – replace with your result)*\n",
    "- **RMSE**: `0.45` *(example – replace with your result)*\n",
    "\n",
    "### ✅ Submission:\n",
    "- `submission.csv` contains:\n",
    "  - `filename`\n",
    "  - Predicted grammar `label` (rounded to 1 decimal)\n",
    "\n",
    "---\n",
    "\n",
    "### ✅ Conclusion:\n",
    "This approach uses interpretable ML with combined features from speech and text to estimate grammar performance with reasonable accuracy. Feature importance can be used to further improve and understand model decisions.\n"
   ]
  },
  {
   "cell_type": "code",
   "execution_count": null,
   "id": "5bc1b7a1-9ece-47c4-9c93-d1c4a47a2688",
   "metadata": {},
   "outputs": [],
   "source": []
  }
 ],
 "metadata": {
  "kernelspec": {
   "display_name": "Python 3 (ipykernel)",
   "language": "python",
   "name": "python3"
  },
  "language_info": {
   "codemirror_mode": {
    "name": "ipython",
    "version": 3
   },
   "file_extension": ".py",
   "mimetype": "text/x-python",
   "name": "python",
   "nbconvert_exporter": "python",
   "pygments_lexer": "ipython3",
   "version": "3.10.0"
  }
 },
 "nbformat": 4,
 "nbformat_minor": 5
}
