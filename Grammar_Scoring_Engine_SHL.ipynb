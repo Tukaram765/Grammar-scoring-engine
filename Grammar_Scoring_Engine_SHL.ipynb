{
 "cells": [
  {
   "cell_type": "code",
   "execution_count": 1,
   "id": "59419704-6f4b-4d63-854c-d6c6ff3695de",
   "metadata": {},
   "outputs": [
    {
     "ename": "SyntaxError",
     "evalue": "invalid decimal literal (2870833485.py, line 3)",
     "output_type": "error",
     "traceback": [
      "\u001b[1;36m  Cell \u001b[1;32mIn[1], line 3\u001b[1;36m\u001b[0m\n\u001b[1;33m    **Description:** This notebook presents the development of a Grammar Scoring Engine that predicts grammar proficiency (score: 0–5) from 45–60 second speech samples, using transcript and acoustic features.\u001b[0m\n\u001b[1;37m                                                                                                                                  ^\u001b[0m\n\u001b[1;31mSyntaxError\u001b[0m\u001b[1;31m:\u001b[0m invalid decimal literal\n"
     ]
    }
   ],
   "source": [
    "# SHL Grammar Scoring Engine\n",
    "**Author:** Jaswanth Chilakalapudi \n",
    "**Description:** This notebook presents the development of a Grammar Scoring Engine that predicts grammar proficiency (score: 0–5) from 45–60 second speech samples, using transcript and acoustic features.  \n",
    "**Evaluation Metric:** Pearson Correlation Coefficient\n"
   ]
  },
  {
   "cell_type": "code",
   "execution_count": null,
   "id": "9a65943a-834e-4840-b24b-7f758644e5cb",
   "metadata": {},
   "outputs": [],
   "source": [
    "import pandas as pd\n",
    "import os\n",
    "\n",
    "train_transcripts = pd.read_csv(\"train_transcripts.csv\")\n",
    "test_transcripts = pd.read_csv(\"test_transcripts.csv\")\n",
    "train_audio = pd.read_csv(\"train_audio_features.csv\")\n",
    "test_audio = pd.read_csv(\"test_audio_features.csv\")\n",
    "labels_df = pd.read_csv(\"dataset/train.csv\")\n",
    "\n",
    "# Merge data\n",
    "train_df = pd.merge(train_transcripts, train_audio, on=\"filename\")\n",
    "test_df = pd.merge(test_transcripts, test_audio, on=\"filename\")\n",
    "labels_df.rename(columns={\"label\": \"grammar\"}, inplace=True)\n",
    "train_df = pd.merge(train_df, labels_df[[\"filename\", \"grammar\"]], on=\"filename\")\n"
   ]
  },
  {
   "cell_type": "code",
   "execution_count": null,
   "id": "1f18a782-ac1b-45d7-b0f9-988945c3180f",
   "metadata": {},
   "outputs": [],
   "source": [
    "from sklearn.model_selection import train_test_split\n",
    "from sklearn.preprocessing import StandardScaler\n",
    "\n",
    "X = train_df.drop(columns=[\"filename\", \"transcript\", \"grammar\"])\n",
    "y = train_df[\"grammar\"]\n",
    "\n",
    "X_train, X_val, y_train, y_val = train_test_split(X, y, test_size=0.2, random_state=42)\n",
    "\n",
    "scaler = StandardScaler()\n",
    "X_train_scaled = scaler.fit_transform(X_train)\n",
    "X_val_scaled = scaler.transform(X_val)\n"
   ]
  },
  {
   "cell_type": "code",
   "execution_count": null,
   "id": "ab98ff7f-ed0d-4220-83af-c5560432933f",
   "metadata": {},
   "outputs": [],
   "source": [
    "from sklearn.ensemble import RandomForestRegressor\n",
    "from sklearn.metrics import mean_squared_error\n",
    "from scipy.stats import pearsonr\n",
    "\n",
    "model = RandomForestRegressor(n_estimators=100, random_state=42)\n",
    "model.fit(X_train_scaled, y_train)\n",
    "\n",
    "y_pred = model.predict(X_val_scaled)\n",
    "\n",
    "pearson_corr, _ = pearsonr(y_val, y_pred)\n",
    "rmse = mean_squared_error(y_val, y_pred) ** 0.5\n",
    "\n",
    "print(f\"Pearson Correlation: {pearson_corr:.4f}\")\n",
    "print(f\"RMSE: {rmse:.4f}\")\n"
   ]
  },
  {
   "cell_type": "code",
   "execution_count": null,
   "id": "0814e397-2c69-4532-b8bd-5ccc675f38ad",
   "metadata": {},
   "outputs": [],
   "source": [
    "### 📊 Evaluation\n",
    "- **Pearson Correlation** indicates how well our predicted grammar scores align with the ground truth.\n",
    "- **RMSE** helps track absolute error in prediction.\n"
   ]
  },
  {
   "cell_type": "code",
   "execution_count": null,
   "id": "ed3afbc2-4153-460b-843e-7d18d63bce14",
   "metadata": {},
   "outputs": [],
   "source": [
    "import joblib\n",
    "\n",
    "# Save model and scaler\n",
    "joblib.dump(model, \"grammar_model.pkl\")\n",
    "joblib.dump(scaler, \"scaler.pkl\")\n",
    "\n",
    "# Prepare test predictions\n",
    "X_test = test_df.drop(columns=[\"filename\", \"transcript\"])\n",
    "X_test_scaled = scaler.transform(X_test)\n",
    "test_preds = model.predict(X_test_scaled)\n",
    "\n",
    "submission_df = pd.DataFrame({\n",
    "    \"filename\": test_df[\"filename\"],\n",
    "    \"label\": test_preds.round(1)\n",
    "})\n",
    "\n",
    "submission_df.to_csv(\"submission.csv\", index=False)\n",
    "print(\"✅ submission.csv saved.\")\n"
   ]
  },
  {
   "cell_type": "code",
   "execution_count": null,
   "id": "05173a1e-eb2a-4ae4-965d-81f9247f1711",
   "metadata": {},
   "outputs": [],
   "source": [
    "## ✅ Summary\n",
    "- Features used: Acoustic and transcript-based features.\n",
    "- Model: Random Forest Regressor\n",
    "- Evaluation Metric: Pearson Correlation (used in leaderboard).\n",
    "- Output: submission.csv with predicted grammar scores (0–5).\n"
   ]
  },
  {
   "cell_type": "code",
   "execution_count": null,
   "id": "f6e8eaa4-9f00-4af2-a3ab-b6eaa2e6affd",
   "metadata": {},
   "outputs": [],
   "source": [
    "import matplotlib.pyplot as plt\n",
    "\n",
    "plt.figure(figsize=(6, 6))\n",
    "plt.scatter(y_val, y_pred, alpha=0.6)\n",
    "plt.xlabel(\"True Grammar Score\")\n",
    "plt.ylabel(\"Predicted Grammar Score\")\n",
    "plt.title(\"Validation Set: True vs Predicted\")\n",
    "plt.grid(True)\n",
    "plt.show()\n"
   ]
  }
 ],
 "metadata": {
  "kernelspec": {
   "display_name": "Python 3 (ipykernel)",
   "language": "python",
   "name": "python3"
  },
  "language_info": {
   "codemirror_mode": {
    "name": "ipython",
    "version": 3
   },
   "file_extension": ".py",
   "mimetype": "text/x-python",
   "name": "python",
   "nbconvert_exporter": "python",
   "pygments_lexer": "ipython3",
   "version": "3.10.0"
  }
 },
 "nbformat": 4,
 "nbformat_minor": 5
}
